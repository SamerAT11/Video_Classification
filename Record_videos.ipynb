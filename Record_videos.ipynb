{
 "cells": [
  {
   "cell_type": "code",
   "execution_count": 1,
   "metadata": {},
   "outputs": [],
   "source": [
    "import cv2\n",
    "import os\n",
    "import time\n",
    "import csv\n",
    "\n",
    "def record_videos(actions, output_dir):\n",
    "    cap = cv2.VideoCapture(1)\n",
    "    \n",
    "    # Get native resolution of the camera\n",
    "    frame_width = int(cap.get(cv2.CAP_PROP_FRAME_WIDTH))\n",
    "    frame_height = int(cap.get(cv2.CAP_PROP_FRAME_HEIGHT))\n",
    "    fps = int(cap.get(cv2.CAP_PROP_FPS))\n",
    "\n",
    "    print(f\"Resolution: {frame_width}x{frame_height}, FPS: {fps}\")\n",
    "\n",
    "    os.makedirs(output_dir, exist_ok=True)\n",
    "    \n",
    "    recording = False\n",
    "    video_writer = None\n",
    "    action_idx = 0\n",
    "    sequence_dir = None\n",
    "    timestamps = []\n",
    "\n",
    "    while cap.isOpened():\n",
    "        success, frame = cap.read()\n",
    "        if not success:\n",
    "            break\n",
    "\n",
    "        if recording:\n",
    "            video_writer.write(frame)\n",
    "            current_time = time.time()\n",
    "            timestamps.append(current_time)\n",
    "            draw_text_with_background(frame, f'Recording: {actions[action_idx]}', (10, 30), font_scale=0.8,\n",
    "                                      font_thickness=1, text_color=(255, 255, 255), bg_color=(4, 133, 25))\n",
    "        else:\n",
    "            draw_text_with_background(frame, f'Stopped recording: {actions[action_idx]}', (10, 30), font_scale=0.8,\n",
    "                                      font_thickness=1, text_color=(255, 255, 255), bg_color=(140, 7, 7))\n",
    "\n",
    "        cv2.imshow('Video Recording', frame)\n",
    "\n",
    "        key = cv2.waitKey(10) & 0xFF\n",
    "        if key == ord('r') and not recording:\n",
    "            sequence_dir = os.path.join(output_dir, actions[action_idx], f\"sequence_{get_next_sequence_number(os.path.join(output_dir, actions[action_idx]))}\")\n",
    "            os.makedirs(sequence_dir, exist_ok=True)\n",
    "            video_path = os.path.join(sequence_dir, \"sequence_video.avi\")\n",
    "            video_writer = cv2.VideoWriter(video_path, cv2.VideoWriter_fourcc(*'XVID'), fps, (frame_width, frame_height))\n",
    "            timestamps = []  # Reset timestamps for new recording\n",
    "            recording = True\n",
    "            frame_num = 0\n",
    "        elif key == ord('s') and recording:\n",
    "            video_writer.release()\n",
    "            recording = False\n",
    "            # Save timestamps to a CSV file\n",
    "            timestamp_path = os.path.join(sequence_dir, \"timestamps.csv\")\n",
    "            with open(timestamp_path, mode='w', newline='') as file:\n",
    "                writer = csv.writer(file)\n",
    "                writer.writerow([\"Frame\", \"Timestamp\"])\n",
    "                for i, timestamp in enumerate(timestamps):\n",
    "                    writer.writerow([i, timestamp])\n",
    "        elif key == ord('a'):\n",
    "            action_idx = (action_idx + 1) % len(actions)\n",
    "        elif key == ord('q'):\n",
    "            break\n",
    "\n",
    "    cap.release()\n",
    "    cv2.destroyAllWindows()\n",
    "\n",
    "def get_next_sequence_number(action_path):\n",
    "    try:\n",
    "        existing_sequences = [int(d.split('_')[1]) for d in os.listdir(action_path) if os.path.isdir(os.path.join(action_path, d)) and d.startswith('sequence_')]\n",
    "        if existing_sequences:\n",
    "            return max(existing_sequences) + 1\n",
    "        else:\n",
    "            return 0\n",
    "    except FileNotFoundError:\n",
    "        return 0\n",
    "\n",
    "def draw_text_with_background(image, text, position, font=cv2.FONT_HERSHEY_SIMPLEX, font_scale=1, font_thickness=2, text_color=(255, 255, 255), bg_color=(66, 135, 245)):\n",
    "    text_size, _ = cv2.getTextSize(text, font, font_scale, font_thickness)\n",
    "    text_w, text_h = text_size\n",
    "    rect_x1 = position[0] - 5\n",
    "    rect_y1 = position[1] - text_h - 5\n",
    "    rect_x2 = position[0] + text_w + 5\n",
    "    rect_y2 = position[1] + 5\n",
    "    cv2.rectangle(image, (rect_x1, rect_y1), (rect_x2, rect_y2), bg_color, -1)\n",
    "    cv2.putText(image, text, position, font, font_scale, text_color, font_thickness)"
   ]
  },
  {
   "cell_type": "code",
   "execution_count": 3,
   "metadata": {},
   "outputs": [
    {
     "name": "stdout",
     "output_type": "stream",
     "text": [
      "Resolution: 640x480, FPS: 30\n"
     ]
    }
   ],
   "source": [
    "# Example usage\n",
    "actions = ['normal_shopping', 'shoplifting']\n",
    "output_dir = 'Recorded_Videos'\n",
    "record_videos(actions, output_dir)"
   ]
  }
 ],
 "metadata": {
  "kernelspec": {
   "display_name": "samerenv",
   "language": "python",
   "name": "python3"
  },
  "language_info": {
   "codemirror_mode": {
    "name": "ipython",
    "version": 3
   },
   "file_extension": ".py",
   "mimetype": "text/x-python",
   "name": "python",
   "nbconvert_exporter": "python",
   "pygments_lexer": "ipython3",
   "version": "3.11.8"
  }
 },
 "nbformat": 4,
 "nbformat_minor": 2
}
