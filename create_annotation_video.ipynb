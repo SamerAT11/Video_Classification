{
 "cells": [
  {
   "cell_type": "code",
   "execution_count": null,
   "metadata": {},
   "outputs": [],
   "source": [
    "import os\n",
    "import random\n",
    "\n",
    "# Define the base directory\n",
    "base_dir = '/home/samer/Desktop/Projects/mmaction2/data/Recorded_Videos'\n",
    "\n",
    "# Define the classes and their labels\n",
    "classes = {'normal_shopping': 0, 'shoplifting': 1}\n",
    "\n",
    "# Create annotation files for train, val, and test splits\n",
    "with open('train_annotations.txt', 'w') as train_f, \\\n",
    "     open('val_annotations.txt', 'w') as val_f, \\\n",
    "     open('test_annotations.txt', 'w') as test_f:\n",
    "\n",
    "    for class_name, label in classes.items():\n",
    "        class_dir = os.path.join(base_dir, class_name)\n",
    "        sequences = os.listdir(class_dir)\n",
    "        \n",
    "        # Shuffle the sequences to ensure random distribution\n",
    "        random.shuffle(sequences)\n",
    "        \n",
    "        # Define the split ratios\n",
    "        train_split = int(0.7 * len(sequences))\n",
    "        val_split = int(0.15 * len(sequences))\n",
    "\n",
    "        for i, sequence in enumerate(sequences):\n",
    "            video_path = os.path.join(class_name, sequence, 'sequence_video.avi')\n",
    "            if i < train_split:\n",
    "                train_f.write(f\"{video_path} {label}\\n\")\n",
    "            elif i < train_split + val_split:\n",
    "                val_f.write(f\"{video_path} {label}\\n\")\n",
    "            else:\n",
    "                test_f.write(f\"{video_path} {label}\\n\")\n"
   ]
  }
 ],
 "metadata": {
  "language_info": {
   "name": "python"
  }
 },
 "nbformat": 4,
 "nbformat_minor": 2
}
